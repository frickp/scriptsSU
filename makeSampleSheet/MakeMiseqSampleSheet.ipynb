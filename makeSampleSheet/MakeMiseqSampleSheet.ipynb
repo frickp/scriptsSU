{
 "cells": [
  {
   "cell_type": "code",
   "execution_count": 1,
   "metadata": {
    "collapsed": false
   },
   "outputs": [],
   "source": [
    "#This script is designed to automatically generate the primer barcode combinations for scATAC experiments\n",
    "\n",
    "import pandas as pd\n",
    "import numpy as np\n",
    "import datetime\n",
    "table=pd.read_csv('MiSeqSampleTemplate.txt',delimiter='\\t',skiprows=19)\n",
    "Barcodes=pd.read_csv('NexteraBarcodeInfo2.txt',delimiter='\\t',index_col=0)"
   ]
  },
  {
   "cell_type": "code",
   "execution_count": 3,
   "metadata": {
    "collapsed": false
   },
   "outputs": [],
   "source": [
    "#Barcodes.head()"
   ]
  },
  {
   "cell_type": "code",
   "execution_count": 78,
   "metadata": {
    "collapsed": false
   },
   "outputs": [],
   "source": [
    "#Barcodes[(Barcodes.Name=='N502') & (Barcodes.Instrument=='MiSeq')]"
   ]
  },
  {
   "cell_type": "code",
   "execution_count": 79,
   "metadata": {
    "collapsed": true
   },
   "outputs": [],
   "source": [
    "# I need to pull in variables from the user using argparse. What I need are the following\n",
    "# version (v1 or v2)\n",
    "# instrument (Miseq or NextSeq)\n",
    "# Ad1Number (Row#)\n",
    "# Ad2Number (Col#)\n",
    "# I should make a note that Ad1MX is indexed as '0'"
   ]
  },
  {
   "cell_type": "code",
   "execution_count": 80,
   "metadata": {
    "collapsed": false
   },
   "outputs": [],
   "source": [
    "#If single-cell (generate dictionaries of primers):\n",
    "#ad2_dict=dict(Barcodes[(Barcodes.Orientation=='i7_ad2') & (Barcodes.Version=='v2') & (Barcodes['Instrument'].str.contains('NextSeq'))]['Sequence'])\n",
    "#ad1_dict=dict(Barcodes[(Barcodes.Orientation=='i5_ad1') & (Barcodes.Version=='v2') & (Barcodes['Instrument'].str.contains('NextSeq'))]['Sequence'])\n",
    "#The top two work...\n",
    "\n",
    "#ad2_dict=dict(Barcodes[(Barcodes.Orientation=='i7_ad2') & (Barcodes.Version=='v2') & (Barcodes['Instrument'].str.contains('NextSeq'))]['Name','Sequence'])\n",
    "ad1_dict=dict(Barcodes[(Barcodes.Orientation=='i5_ad1') & (Barcodes.Version=='v2') & (Barcodes['Instrument'].str.contains('NextSeq'))])\n",
    "ad2_dict=dict(Barcodes[(Barcodes.Orientation=='i7_ad2') & (Barcodes.Version=='v2') & (Barcodes['Instrument'].str.contains('NextSeq'))])\n"
   ]
  },
  {
   "cell_type": "code",
   "execution_count": 81,
   "metadata": {
    "collapsed": false
   },
   "outputs": [],
   "source": [
    "#ad1_dict['Sequence'].loc[5]"
   ]
  },
  {
   "cell_type": "code",
   "execution_count": 82,
   "metadata": {
    "collapsed": false
   },
   "outputs": [],
   "source": [
    "#Index by string finding\n",
    "#Barcodes[Barcodes['Instrument'].str.contains('NextSeq')]"
   ]
  },
  {
   "cell_type": "code",
   "execution_count": 83,
   "metadata": {
    "collapsed": false
   },
   "outputs": [],
   "source": [
    "#Preliminary code combined into working code segment below\n",
    "#b=[i*12+1 for i in range(8)]\n",
    "#x=[]\n",
    "#for i in b:\n",
    "#    x.append(a[i])\n",
    "#print x"
   ]
  },
  {
   "cell_type": "code",
   "execution_count": 84,
   "metadata": {
    "collapsed": false
   },
   "outputs": [],
   "source": [
    "# This is correctly formatted for ad2_i7\n",
    "colNum = 5 #Make this a variable to be read in by argparse\n",
    "x  = []    #change x to ad1\n",
    "x2 = []\n",
    "x3 = []\n",
    "for i in [i*12+colNum for i in range(8)]:\n",
    "    x.append(i)\n",
    "    x2.append(ad2_dict['Sequence'].loc[i])\n",
    "    x3.append(ad2_dict['Name'].loc[i])\n",
    "x=x*12\n",
    "x2=x2*12\n",
    "x3=x3*12\n",
    "#print x\n",
    "#print type(x)\n",
    "#print len (x)\n",
    "#print x2\n",
    "#print x3\n",
    "\n",
    "#ad1_dict['Sequence'].loc[5]"
   ]
  },
  {
   "cell_type": "code",
   "execution_count": 85,
   "metadata": {
    "collapsed": false
   },
   "outputs": [],
   "source": [
    "# This is correctly formatted for ad1_i5\n",
    "RowNum = 5 #Make this a variable to be read in by argparse\n",
    "y  = []\n",
    "y2 = []\n",
    "y3 = []\n",
    "for i in [x+1 for x in range(8)]:\n",
    "    for j in [x+1 for x in range(12)]:\n",
    "        y.append(j+12*(RowNum-1)) \n",
    "        y2.append(ad1_dict['Sequence'].loc[j+12*(RowNum-1)])\n",
    "        y3.append(ad1_dict['Name'].loc[j+12*(RowNum-1)])\n",
    "#print y\n",
    "#print type(y)\n",
    "#print len(y)\n",
    "#print y2\n",
    "#print y3\n",
    "\n",
    "#ad1_dict['Sequence'].loc[5]"
   ]
  },
  {
   "cell_type": "code",
   "execution_count": 86,
   "metadata": {
    "collapsed": false
   },
   "outputs": [],
   "source": [
    "# Now I need to figure out how to take x2 and y2 and put them in a new dataframe\n",
    "# Make the indexing column the same as the one from \n",
    "#d = pd.DataFrame(data='index')\n"
   ]
  },
  {
   "cell_type": "code",
   "execution_count": 87,
   "metadata": {
    "collapsed": false
   },
   "outputs": [],
   "source": [
    "#Barcodes.index.values"
   ]
  },
  {
   "cell_type": "code",
   "execution_count": 88,
   "metadata": {
    "collapsed": false,
    "scrolled": true
   },
   "outputs": [],
   "source": [
    "CommonName = 'CellID-'\n",
    "cols = ['Sample_ID','Sample_Name','Sample_Well','I7_Index_ID','index','I5_Index_ID','index2','Sample_Project','Description']\n",
    "idx = [i +1 for i in range(96)]\n",
    "sampleNames = [CommonName+str(i + 1) for i in range(96)]\n"
   ]
  },
  {
   "cell_type": "code",
   "execution_count": 89,
   "metadata": {
    "collapsed": false
   },
   "outputs": [],
   "source": [
    "PrimerSheet=pd.DataFrame(columns=cols,index=idx)\n",
    "\n",
    "#PrimerSheet.head()"
   ]
  },
  {
   "cell_type": "code",
   "execution_count": 90,
   "metadata": {
    "collapsed": false
   },
   "outputs": [],
   "source": [
    "PrimerSheet['Sample_ID']=sampleNames\n",
    "PrimerSheet['I5_Index_ID']=y2\n",
    "PrimerSheet['index']=y3\n",
    "PrimerSheet['I7_Index_ID']=x2\n",
    "PrimerSheet['index2']=x3\n",
    "#PrimerSheet.head()"
   ]
  },
  {
   "cell_type": "code",
   "execution_count": 91,
   "metadata": {
    "collapsed": false
   },
   "outputs": [],
   "source": [
    "#I think that all that's left is to interface the script with argparse!!"
   ]
  },
  {
   "cell_type": "code",
   "execution_count": 92,
   "metadata": {
    "collapsed": false,
    "scrolled": true
   },
   "outputs": [],
   "source": [
    "currDay = datetime.datetime.now().strftime(\"%Y%b%d\")\n",
    "saveDir='./'\n",
    "fileName='PrimerSheet.csv'\n",
    "#print saveDir + fileName\n",
    "PrimerSheet.to_csv(saveDir + currDay + fileName,index=False)"
   ]
  },
  {
   "cell_type": "code",
   "execution_count": null,
   "metadata": {
    "collapsed": true
   },
   "outputs": [],
   "source": []
  }
 ],
 "metadata": {
  "kernelspec": {
   "display_name": "Python 2",
   "language": "python",
   "name": "python2"
  },
  "language_info": {
   "codemirror_mode": {
    "name": "ipython",
    "version": 2
   },
   "file_extension": ".py",
   "mimetype": "text/x-python",
   "name": "python",
   "nbconvert_exporter": "python",
   "pygments_lexer": "ipython2",
   "version": "2.7.10"
  }
 },
 "nbformat": 4,
 "nbformat_minor": 0
}
