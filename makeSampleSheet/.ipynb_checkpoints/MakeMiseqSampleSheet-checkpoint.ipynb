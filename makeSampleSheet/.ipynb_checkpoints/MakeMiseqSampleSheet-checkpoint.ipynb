{
 "cells": [
  {
   "cell_type": "code",
   "execution_count": 3,
   "metadata": {
    "collapsed": false
   },
   "outputs": [],
   "source": [
    "#This script is designed to automatically generate the primer barcode combinations for scATAC experiments\n",
    "\n",
    "import pandas as pd\n",
    "import numpy as np\n",
    "import datetime\n",
    "table=pd.read_csv('MiSeqSampleTemplate.txt',delimiter='\\t',skiprows=19)\n",
    "Barcodes=pd.read_csv('NexteraBarcodeInfo2.txt',delimiter='\\t',index_col=0)"
   ]
  },
  {
   "cell_type": "code",
   "execution_count": 7,
   "metadata": {
    "collapsed": false
   },
   "outputs": [],
   "source": [
    "#If single-cell (generate dictionaries of primers):\n",
    "\n",
    "ad1_dict=dict(Barcodes[(Barcodes.Orientation=='i5_ad1') & (Barcodes.Version=='v2') & (Barcodes['Instrument'].str.contains('NextSeq'))])\n",
    "ad2_dict=dict(Barcodes[(Barcodes.Orientation=='i7_ad2') & (Barcodes.Version=='v2') & (Barcodes['Instrument'].str.contains('NextSeq'))])\n"
   ]
  },
  {
   "cell_type": "markdown",
   "metadata": {
    "collapsed": false
   },
   "source": [
    "## First, get the barcodes for the first plate"
   ]
  },
  {
   "cell_type": "code",
   "execution_count": 227,
   "metadata": {
    "collapsed": false
   },
   "outputs": [
    {
     "data": {
      "text/plain": [
       "[61, 62, 63, 64, 65, 66, 67, 68, 69, 70, 71, 72, 61, 62, 63, 64, 65, 66]"
      ]
     },
     "execution_count": 227,
     "metadata": {},
     "output_type": "execute_result"
    }
   ],
   "source": [
    "#Plate 1 Ad1\n",
    "rowNum = 5\n",
    "p1Ad1 = [[12*rowNum + i for i in range(1,13)] for i in range(8)]\n",
    "p1Ad1 = [i for row in p1Ad1 for i in row] #Flatten the nested lists\n",
    "p1Ad1[0:18]\n"
   ]
  },
  {
   "cell_type": "code",
   "execution_count": 228,
   "metadata": {
    "collapsed": false
   },
   "outputs": [
    {
     "data": {
      "text/plain": [
       "[73, 73, 73, 73, 73, 73, 73, 73, 73, 73, 73, 73, 74, 74, 74, 74, 74, 74]"
      ]
     },
     "execution_count": 228,
     "metadata": {},
     "output_type": "execute_result"
    }
   ],
   "source": [
    "#Plate 1 Ad2\n",
    "rowNum = 6\n",
    "p1Ad2 = [[12*rowNum + j for i in range(1,13)] for j in range(1,9)]\n",
    "p1Ad2 = [i for row in p1Ad2 for i in row] #Flatten the nested lists\n",
    "p1Ad2[0:18]"
   ]
  },
  {
   "cell_type": "code",
   "execution_count": 229,
   "metadata": {
    "collapsed": false
   },
   "outputs": [
    {
     "data": {
      "text/html": [
       "<div>\n",
       "<table border=\"1\" class=\"dataframe\">\n",
       "  <thead>\n",
       "    <tr style=\"text-align: right;\">\n",
       "      <th></th>\n",
       "      <th>Sample_ID</th>\n",
       "      <th>I7_Index_ID</th>\n",
       "      <th>index</th>\n",
       "      <th>I5_Index_ID</th>\n",
       "      <th>index2</th>\n",
       "    </tr>\n",
       "  </thead>\n",
       "  <tbody>\n",
       "    <tr>\n",
       "      <th>0</th>\n",
       "      <td>TwistER-day0_sc1</td>\n",
       "      <td>N7073</td>\n",
       "      <td>ATTTATCT</td>\n",
       "      <td>N5061</td>\n",
       "      <td>CCCTATCG</td>\n",
       "    </tr>\n",
       "    <tr>\n",
       "      <th>1</th>\n",
       "      <td>TwistER-day0_sc2</td>\n",
       "      <td>N7073</td>\n",
       "      <td>ATTTATCT</td>\n",
       "      <td>N5062</td>\n",
       "      <td>TTCTAAGT</td>\n",
       "    </tr>\n",
       "    <tr>\n",
       "      <th>2</th>\n",
       "      <td>TwistER-day0_sc3</td>\n",
       "      <td>N7073</td>\n",
       "      <td>ATTTATCT</td>\n",
       "      <td>N5063</td>\n",
       "      <td>AGATCTCT</td>\n",
       "    </tr>\n",
       "    <tr>\n",
       "      <th>3</th>\n",
       "      <td>TwistER-day0_sc4</td>\n",
       "      <td>N7073</td>\n",
       "      <td>ATTTATCT</td>\n",
       "      <td>N5064</td>\n",
       "      <td>CCTTCACC</td>\n",
       "    </tr>\n",
       "    <tr>\n",
       "      <th>4</th>\n",
       "      <td>TwistER-day0_sc5</td>\n",
       "      <td>N7073</td>\n",
       "      <td>ATTTATCT</td>\n",
       "      <td>N5065</td>\n",
       "      <td>CATTCGAT</td>\n",
       "    </tr>\n",
       "  </tbody>\n",
       "</table>\n",
       "</div>"
      ],
      "text/plain": [
       "          Sample_ID I7_Index_ID     index I5_Index_ID    index2\n",
       "0  TwistER-day0_sc1       N7073  ATTTATCT       N5061  CCCTATCG\n",
       "1  TwistER-day0_sc2       N7073  ATTTATCT       N5062  TTCTAAGT\n",
       "2  TwistER-day0_sc3       N7073  ATTTATCT       N5063  AGATCTCT\n",
       "3  TwistER-day0_sc4       N7073  ATTTATCT       N5064  CCTTCACC\n",
       "4  TwistER-day0_sc5       N7073  ATTTATCT       N5065  CATTCGAT"
      ]
     },
     "execution_count": 229,
     "metadata": {},
     "output_type": "execute_result"
    }
   ],
   "source": [
    "#Plate day0\n",
    "commonName = 'TwistER-day0'\n",
    "barcodes = pd.DataFrame({\n",
    "        'I7_Index_ID': list(ad2_dict['Name'].loc[p1Ad2]),\n",
    "        'index': list(ad2_dict['Sequence'].loc[p1Ad2]),\n",
    "        'I5_Index_ID': list(ad1_dict['Name'].loc[p1Ad1]),\n",
    "        'index2': list(ad1_dict['Sequence'].loc[p1Ad1]),\n",
    "        'Sample_ID': [commonName + '_sc' + str(i) for i in range(1,97)]\n",
    "    })\n",
    "barcodes.reset_index\n",
    "barcodes = barcodes[['Sample_ID','I7_Index_ID','index','I5_Index_ID','index2']]\n",
    "barcodes.head()"
   ]
  },
  {
   "cell_type": "markdown",
   "metadata": {},
   "source": [
    "## Now the barcodes for the second plate"
   ]
  },
  {
   "cell_type": "code",
   "execution_count": 230,
   "metadata": {
    "collapsed": false
   },
   "outputs": [],
   "source": [
    "p2Ad1 = [[12*rowNum + i for i in range(1,13)] for i in range(8)]"
   ]
  },
  {
   "cell_type": "code",
   "execution_count": 231,
   "metadata": {
    "collapsed": false
   },
   "outputs": [
    {
     "data": {
      "text/plain": [
       "[73, 74, 75, 76, 77, 78, 79, 80, 81, 82, 83, 84, 73, 74, 75, 76, 77, 78]"
      ]
     },
     "execution_count": 231,
     "metadata": {},
     "output_type": "execute_result"
    }
   ],
   "source": [
    "#Plate 2 Ad1\n",
    "rowNum = 6\n",
    "p2Ad1 = [[12*rowNum + i for i in range(1,13)] for i in range(8)]\n",
    "p2Ad1 = [i for row in p2Ad1 for i in row] #Flatten the nested lists\n",
    "p2Ad1[0:18]\n"
   ]
  },
  {
   "cell_type": "code",
   "execution_count": 232,
   "metadata": {
    "collapsed": false
   },
   "outputs": [
    {
     "data": {
      "text/plain": [
       "[85, 85, 85, 85, 85, 85, 85, 85, 85, 85, 85, 85, 86, 86, 86, 86, 86, 86]"
      ]
     },
     "execution_count": 232,
     "metadata": {},
     "output_type": "execute_result"
    }
   ],
   "source": [
    "#Plate 2 Ad2\n",
    "rowNum = 7\n",
    "p2Ad2 = [[12*rowNum + j for i in range(1,13)] for j in range(1,9)]\n",
    "p2Ad2 = [i for row in p2Ad2 for i in row] #Flatten the nested lists\n",
    "p2Ad2[0:18]"
   ]
  },
  {
   "cell_type": "code",
   "execution_count": 233,
   "metadata": {
    "collapsed": false
   },
   "outputs": [
    {
     "data": {
      "text/html": [
       "<div>\n",
       "<table border=\"1\" class=\"dataframe\">\n",
       "  <thead>\n",
       "    <tr style=\"text-align: right;\">\n",
       "      <th></th>\n",
       "      <th>Sample_ID</th>\n",
       "      <th>I7_Index_ID</th>\n",
       "      <th>index</th>\n",
       "      <th>I5_Index_ID</th>\n",
       "      <th>index2</th>\n",
       "    </tr>\n",
       "  </thead>\n",
       "  <tbody>\n",
       "    <tr>\n",
       "      <th>0</th>\n",
       "      <td>TwistER-day0_sc1</td>\n",
       "      <td>N7073</td>\n",
       "      <td>ATTTATCT</td>\n",
       "      <td>N5061</td>\n",
       "      <td>CCCTATCG</td>\n",
       "    </tr>\n",
       "    <tr>\n",
       "      <th>1</th>\n",
       "      <td>TwistER-day0_sc2</td>\n",
       "      <td>N7073</td>\n",
       "      <td>ATTTATCT</td>\n",
       "      <td>N5062</td>\n",
       "      <td>TTCTAAGT</td>\n",
       "    </tr>\n",
       "    <tr>\n",
       "      <th>2</th>\n",
       "      <td>TwistER-day0_sc3</td>\n",
       "      <td>N7073</td>\n",
       "      <td>ATTTATCT</td>\n",
       "      <td>N5063</td>\n",
       "      <td>AGATCTCT</td>\n",
       "    </tr>\n",
       "    <tr>\n",
       "      <th>3</th>\n",
       "      <td>TwistER-day0_sc4</td>\n",
       "      <td>N7073</td>\n",
       "      <td>ATTTATCT</td>\n",
       "      <td>N5064</td>\n",
       "      <td>CCTTCACC</td>\n",
       "    </tr>\n",
       "    <tr>\n",
       "      <th>4</th>\n",
       "      <td>TwistER-day0_sc5</td>\n",
       "      <td>N7073</td>\n",
       "      <td>ATTTATCT</td>\n",
       "      <td>N5065</td>\n",
       "      <td>CATTCGAT</td>\n",
       "    </tr>\n",
       "  </tbody>\n",
       "</table>\n",
       "</div>"
      ],
      "text/plain": [
       "          Sample_ID I7_Index_ID     index I5_Index_ID    index2\n",
       "0  TwistER-day0_sc1       N7073  ATTTATCT       N5061  CCCTATCG\n",
       "1  TwistER-day0_sc2       N7073  ATTTATCT       N5062  TTCTAAGT\n",
       "2  TwistER-day0_sc3       N7073  ATTTATCT       N5063  AGATCTCT\n",
       "3  TwistER-day0_sc4       N7073  ATTTATCT       N5064  CCTTCACC\n",
       "4  TwistER-day0_sc5       N7073  ATTTATCT       N5065  CATTCGAT"
      ]
     },
     "execution_count": 233,
     "metadata": {},
     "output_type": "execute_result"
    }
   ],
   "source": [
    "#Plate day2\n",
    "commonName = 'TwistER-day2'\n",
    "barcodes2 = pd.DataFrame({\n",
    "        'I7_Index_ID': list(ad2_dict['Name'].loc[p2Ad2]),\n",
    "        'index': list(ad2_dict['Sequence'].loc[p2Ad2]),\n",
    "        'I5_Index_ID': list(ad1_dict['Name'].loc[p2Ad1]),\n",
    "        'index2': list(ad1_dict['Sequence'].loc[p2Ad1]),\n",
    "        'Sample_ID': [commonName + '_sc' + str(i) for i in range(1,97)]\n",
    "    })\n",
    "barcodes2.reset_index\n",
    "barcodes2 = barcodes[['Sample_ID','I7_Index_ID','index','I5_Index_ID','index2']]\n",
    "barcodes2.head()"
   ]
  },
  {
   "cell_type": "code",
   "execution_count": null,
   "metadata": {
    "collapsed": true
   },
   "outputs": [],
   "source": []
  },
  {
   "cell_type": "code",
   "execution_count": 92,
   "metadata": {
    "collapsed": false,
    "scrolled": true
   },
   "outputs": [],
   "source": [
    "currDay = datetime.datetime.now().strftime(\"%Y%b%d\")\n",
    "saveDir='./'\n",
    "fileName='PrimerSheet.csv'\n",
    "#print saveDir + fileName\n",
    "PrimerSheet.to_csv(saveDir + currDay + fileName,index=False)"
   ]
  },
  {
   "cell_type": "code",
   "execution_count": null,
   "metadata": {
    "collapsed": true
   },
   "outputs": [],
   "source": []
  }
 ],
 "metadata": {
  "kernelspec": {
   "display_name": "Python 2",
   "language": "python",
   "name": "python2"
  },
  "language_info": {
   "codemirror_mode": {
    "name": "ipython",
    "version": 2
   },
   "file_extension": ".py",
   "mimetype": "text/x-python",
   "name": "python",
   "nbconvert_exporter": "python",
   "pygments_lexer": "ipython2",
   "version": "2.7.10"
  }
 },
 "nbformat": 4,
 "nbformat_minor": 0
}
