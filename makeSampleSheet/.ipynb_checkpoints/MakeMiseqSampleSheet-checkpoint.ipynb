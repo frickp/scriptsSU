{
 "cells": [
  {
   "cell_type": "code",
   "execution_count": 278,
   "metadata": {
    "collapsed": false
   },
   "outputs": [],
   "source": [
    "#This script is designed to automatically generate the primer barcode combinations for scATAC experiments\n",
    "\n",
    "import pandas as pd\n",
    "import numpy as np\n",
    "table=pd.read_csv('MiSeqSampleTemplate.txt',delimiter='\\t',skiprows=19)\n",
    "Barcodes=pd.read_csv('NexteraBarcodeInfo2.txt',delimiter='\\t',index_col=0)"
   ]
  },
  {
   "cell_type": "code",
   "execution_count": 279,
   "metadata": {
    "collapsed": false
   },
   "outputs": [
    {
     "data": {
      "text/html": [
       "<div>\n",
       "<table border=\"1\" class=\"dataframe\">\n",
       "  <thead>\n",
       "    <tr style=\"text-align: right;\">\n",
       "      <th></th>\n",
       "      <th>Name</th>\n",
       "      <th>Sequence</th>\n",
       "      <th>Notes</th>\n",
       "      <th>Version</th>\n",
       "      <th>Orientation</th>\n",
       "      <th>Instrument</th>\n",
       "    </tr>\n",
       "    <tr>\n",
       "      <th>Number</th>\n",
       "      <th></th>\n",
       "      <th></th>\n",
       "      <th></th>\n",
       "      <th></th>\n",
       "      <th></th>\n",
       "      <th></th>\n",
       "    </tr>\n",
       "  </thead>\n",
       "  <tbody>\n",
       "    <tr>\n",
       "      <th>1</th>\n",
       "      <td>N701</td>\n",
       "      <td>TAAGGCGA</td>\n",
       "      <td>Nextera</td>\n",
       "      <td>v1</td>\n",
       "      <td>i7_ad2</td>\n",
       "      <td>MiSeqAndNextSeq</td>\n",
       "    </tr>\n",
       "    <tr>\n",
       "      <th>2</th>\n",
       "      <td>N702</td>\n",
       "      <td>CGTACTAG</td>\n",
       "      <td>Nextera</td>\n",
       "      <td>v1</td>\n",
       "      <td>i7_ad2</td>\n",
       "      <td>MiSeqAndNextSeq</td>\n",
       "    </tr>\n",
       "    <tr>\n",
       "      <th>3</th>\n",
       "      <td>N703</td>\n",
       "      <td>AGGCAGAA</td>\n",
       "      <td>Nextera</td>\n",
       "      <td>v1</td>\n",
       "      <td>i7_ad2</td>\n",
       "      <td>MiSeqAndNextSeq</td>\n",
       "    </tr>\n",
       "    <tr>\n",
       "      <th>4</th>\n",
       "      <td>N704</td>\n",
       "      <td>TCCTGAGC</td>\n",
       "      <td>Nextera</td>\n",
       "      <td>v1</td>\n",
       "      <td>i7_ad2</td>\n",
       "      <td>MiSeqAndNextSeq</td>\n",
       "    </tr>\n",
       "    <tr>\n",
       "      <th>5</th>\n",
       "      <td>N705</td>\n",
       "      <td>GGACTCCT</td>\n",
       "      <td>Nextera</td>\n",
       "      <td>v1</td>\n",
       "      <td>i7_ad2</td>\n",
       "      <td>MiSeqAndNextSeq</td>\n",
       "    </tr>\n",
       "  </tbody>\n",
       "</table>\n",
       "</div>"
      ],
      "text/plain": [
       "        Name  Sequence    Notes Version Orientation       Instrument\n",
       "Number                                                              \n",
       "1       N701  TAAGGCGA  Nextera      v1      i7_ad2  MiSeqAndNextSeq\n",
       "2       N702  CGTACTAG  Nextera      v1      i7_ad2  MiSeqAndNextSeq\n",
       "3       N703  AGGCAGAA  Nextera      v1      i7_ad2  MiSeqAndNextSeq\n",
       "4       N704  TCCTGAGC  Nextera      v1      i7_ad2  MiSeqAndNextSeq\n",
       "5       N705  GGACTCCT  Nextera      v1      i7_ad2  MiSeqAndNextSeq"
      ]
     },
     "execution_count": 279,
     "metadata": {},
     "output_type": "execute_result"
    }
   ],
   "source": [
    "Barcodes.head()"
   ]
  },
  {
   "cell_type": "code",
   "execution_count": 280,
   "metadata": {
    "collapsed": false
   },
   "outputs": [
    {
     "data": {
      "text/html": [
       "<div>\n",
       "<table border=\"1\" class=\"dataframe\">\n",
       "  <thead>\n",
       "    <tr style=\"text-align: right;\">\n",
       "      <th></th>\n",
       "      <th>Name</th>\n",
       "      <th>Sequence</th>\n",
       "      <th>Notes</th>\n",
       "      <th>Version</th>\n",
       "      <th>Orientation</th>\n",
       "      <th>Instrument</th>\n",
       "    </tr>\n",
       "    <tr>\n",
       "      <th>Number</th>\n",
       "      <th></th>\n",
       "      <th></th>\n",
       "      <th></th>\n",
       "      <th></th>\n",
       "      <th></th>\n",
       "      <th></th>\n",
       "    </tr>\n",
       "  </thead>\n",
       "  <tbody>\n",
       "    <tr>\n",
       "      <th>2</th>\n",
       "      <td>N502</td>\n",
       "      <td>CTCTCTAT</td>\n",
       "      <td>Nextera</td>\n",
       "      <td>v1</td>\n",
       "      <td>i5_ad1</td>\n",
       "      <td>MiSeq</td>\n",
       "    </tr>\n",
       "  </tbody>\n",
       "</table>\n",
       "</div>"
      ],
      "text/plain": [
       "        Name  Sequence    Notes Version Orientation Instrument\n",
       "Number                                                        \n",
       "2       N502  CTCTCTAT  Nextera      v1      i5_ad1      MiSeq"
      ]
     },
     "execution_count": 280,
     "metadata": {},
     "output_type": "execute_result"
    }
   ],
   "source": [
    "Barcodes[(Barcodes.Name=='N502') & (Barcodes.Instrument=='MiSeq')]"
   ]
  },
  {
   "cell_type": "code",
   "execution_count": 281,
   "metadata": {
    "collapsed": true
   },
   "outputs": [],
   "source": [
    "# I need to pull in variables from the user using argparse. What I need are the following\n",
    "# version (v1 or v2)\n",
    "# instrument (Miseq or NextSeq)\n",
    "# Ad1Number (Row#)\n",
    "# Ad2Number (Col#)\n",
    "# I should make a note that Ad1MX is indexed as '0'"
   ]
  },
  {
   "cell_type": "code",
   "execution_count": 360,
   "metadata": {
    "collapsed": false
   },
   "outputs": [],
   "source": [
    "#If single-cell (generate dictionaries of primers):\n",
    "#ad2_dict=dict(Barcodes[(Barcodes.Orientation=='i7_ad2') & (Barcodes.Version=='v2') & (Barcodes['Instrument'].str.contains('NextSeq'))]['Sequence'])\n",
    "#ad1_dict=dict(Barcodes[(Barcodes.Orientation=='i5_ad1') & (Barcodes.Version=='v2') & (Barcodes['Instrument'].str.contains('NextSeq'))]['Sequence'])\n",
    "#The top two work...\n",
    "\n",
    "#ad2_dict=dict(Barcodes[(Barcodes.Orientation=='i7_ad2') & (Barcodes.Version=='v2') & (Barcodes['Instrument'].str.contains('NextSeq'))]['Name','Sequence'])\n",
    "ad1_dict=dict(Barcodes[(Barcodes.Orientation=='i5_ad1') & (Barcodes.Version=='v2') & (Barcodes['Instrument'].str.contains('NextSeq'))])\n",
    "ad2_dict=dict(Barcodes[(Barcodes.Orientation=='i7_ad2') & (Barcodes.Version=='v2') & (Barcodes['Instrument'].str.contains('NextSeq'))])\n"
   ]
  },
  {
   "cell_type": "code",
   "execution_count": 361,
   "metadata": {
    "collapsed": false
   },
   "outputs": [
    {
     "data": {
      "text/plain": [
       "'CTCCTTAC'"
      ]
     },
     "execution_count": 361,
     "metadata": {},
     "output_type": "execute_result"
    }
   ],
   "source": [
    "ad1_dict['Sequence'].loc[5]"
   ]
  },
  {
   "cell_type": "code",
   "execution_count": 362,
   "metadata": {
    "collapsed": false
   },
   "outputs": [],
   "source": [
    "#Index by string finding\n",
    "#Barcodes[Barcodes['Instrument'].str.contains('NextSeq')]"
   ]
  },
  {
   "cell_type": "code",
   "execution_count": 363,
   "metadata": {
    "collapsed": false
   },
   "outputs": [],
   "source": [
    "#Preliminary code combined into working code segment below\n",
    "#b=[i*12+1 for i in range(8)]\n",
    "#x=[]\n",
    "#for i in b:\n",
    "#    x.append(a[i])\n",
    "#print x"
   ]
  },
  {
   "cell_type": "code",
   "execution_count": null,
   "metadata": {
    "collapsed": false,
    "scrolled": true
   },
   "outputs": [],
   "source": []
  },
  {
   "cell_type": "code",
   "execution_count": 365,
   "metadata": {
    "collapsed": false
   },
   "outputs": [
    {
     "name": "stdout",
     "output_type": "stream",
     "text": [
      "[5, 17, 29, 41, 53, 65, 77, 89, 5, 17, 29, 41, 53, 65, 77, 89, 5, 17, 29, 41, 53, 65, 77, 89, 5, 17, 29, 41, 53, 65, 77, 89, 5, 17, 29, 41, 53, 65, 77, 89, 5, 17, 29, 41, 53, 65, 77, 89, 5, 17, 29, 41, 53, 65, 77, 89, 5, 17, 29, 41, 53, 65, 77, 89, 5, 17, 29, 41, 53, 65, 77, 89, 5, 17, 29, 41, 53, 65, 77, 89, 5, 17, 29, 41, 53, 65, 77, 89, 5, 17, 29, 41, 53, 65, 77, 89]\n",
      "<type 'list'>\n",
      "96\n",
      "['GGACTCCT', 'GTGTGGTG', 'ATTGCCGG', 'TACACCTC', 'CATCCTGT', 'TAACAACA', 'GCCAATTC', 'CACTAGGC', 'GGACTCCT', 'GTGTGGTG', 'ATTGCCGG', 'TACACCTC', 'CATCCTGT', 'TAACAACA', 'GCCAATTC', 'CACTAGGC', 'GGACTCCT', 'GTGTGGTG', 'ATTGCCGG', 'TACACCTC', 'CATCCTGT', 'TAACAACA', 'GCCAATTC', 'CACTAGGC', 'GGACTCCT', 'GTGTGGTG', 'ATTGCCGG', 'TACACCTC', 'CATCCTGT', 'TAACAACA', 'GCCAATTC', 'CACTAGGC', 'GGACTCCT', 'GTGTGGTG', 'ATTGCCGG', 'TACACCTC', 'CATCCTGT', 'TAACAACA', 'GCCAATTC', 'CACTAGGC', 'GGACTCCT', 'GTGTGGTG', 'ATTGCCGG', 'TACACCTC', 'CATCCTGT', 'TAACAACA', 'GCCAATTC', 'CACTAGGC', 'GGACTCCT', 'GTGTGGTG', 'ATTGCCGG', 'TACACCTC', 'CATCCTGT', 'TAACAACA', 'GCCAATTC', 'CACTAGGC', 'GGACTCCT', 'GTGTGGTG', 'ATTGCCGG', 'TACACCTC', 'CATCCTGT', 'TAACAACA', 'GCCAATTC', 'CACTAGGC', 'GGACTCCT', 'GTGTGGTG', 'ATTGCCGG', 'TACACCTC', 'CATCCTGT', 'TAACAACA', 'GCCAATTC', 'CACTAGGC', 'GGACTCCT', 'GTGTGGTG', 'ATTGCCGG', 'TACACCTC', 'CATCCTGT', 'TAACAACA', 'GCCAATTC', 'CACTAGGC', 'GGACTCCT', 'GTGTGGTG', 'ATTGCCGG', 'TACACCTC', 'CATCCTGT', 'TAACAACA', 'GCCAATTC', 'CACTAGGC', 'GGACTCCT', 'GTGTGGTG', 'ATTGCCGG', 'TACACCTC', 'CATCCTGT', 'TAACAACA', 'GCCAATTC', 'CACTAGGC']\n",
      "['N7005', 'N7017', 'N7029', 'N7041', 'N7053', 'N7065', 'N7077', 'N7089', 'N7005', 'N7017', 'N7029', 'N7041', 'N7053', 'N7065', 'N7077', 'N7089', 'N7005', 'N7017', 'N7029', 'N7041', 'N7053', 'N7065', 'N7077', 'N7089', 'N7005', 'N7017', 'N7029', 'N7041', 'N7053', 'N7065', 'N7077', 'N7089', 'N7005', 'N7017', 'N7029', 'N7041', 'N7053', 'N7065', 'N7077', 'N7089', 'N7005', 'N7017', 'N7029', 'N7041', 'N7053', 'N7065', 'N7077', 'N7089', 'N7005', 'N7017', 'N7029', 'N7041', 'N7053', 'N7065', 'N7077', 'N7089', 'N7005', 'N7017', 'N7029', 'N7041', 'N7053', 'N7065', 'N7077', 'N7089', 'N7005', 'N7017', 'N7029', 'N7041', 'N7053', 'N7065', 'N7077', 'N7089', 'N7005', 'N7017', 'N7029', 'N7041', 'N7053', 'N7065', 'N7077', 'N7089', 'N7005', 'N7017', 'N7029', 'N7041', 'N7053', 'N7065', 'N7077', 'N7089', 'N7005', 'N7017', 'N7029', 'N7041', 'N7053', 'N7065', 'N7077', 'N7089']\n"
     ]
    }
   ],
   "source": [
    "# This is correctly formatted for ad2_i7\n",
    "colNum = 5 #Make this a variable to be read in by argparse\n",
    "x  = []    #change x to ad1\n",
    "x2 = []\n",
    "x3 = []\n",
    "for i in [i*12+colNum for i in range(8)]:\n",
    "    x.append(i)\n",
    "    x2.append(ad2_dict['Sequence'].loc[i])\n",
    "    x3.append(ad2_dict['Name'].loc[i])\n",
    "x=x*12\n",
    "x2=x2*12\n",
    "x3=x3*12\n",
    "print x\n",
    "print type(x)\n",
    "print len (x)\n",
    "print x2\n",
    "print x3\n",
    "\n",
    "#ad1_dict['Sequence'].loc[5]"
   ]
  },
  {
   "cell_type": "code",
   "execution_count": 352,
   "metadata": {
    "collapsed": false
   },
   "outputs": [
    {
     "name": "stdout",
     "output_type": "stream",
     "text": [
      "[49, 50, 51, 52, 53, 54, 55, 56, 57, 58, 59, 60, 49, 50, 51, 52, 53, 54, 55, 56, 57, 58, 59, 60, 49, 50, 51, 52, 53, 54, 55, 56, 57, 58, 59, 60, 49, 50, 51, 52, 53, 54, 55, 56, 57, 58, 59, 60, 49, 50, 51, 52, 53, 54, 55, 56, 57, 58, 59, 60, 49, 50, 51, 52, 53, 54, 55, 56, 57, 58, 59, 60, 49, 50, 51, 52, 53, 54, 55, 56, 57, 58, 59, 60, 49, 50, 51, 52, 53, 54, 55, 56, 57, 58, 59, 60]\n",
      "<type 'list'>\n",
      "96\n",
      "['CACGTCTC', 'TTAGGCAA', 'CAAGTTAA', 'TGTTAAAG', 'GGTCTACG', 'CGCAAATA', 'TCCTGGAT', 'CAGGAACA', 'CTGCGCGT', 'TCGCCAGA', 'TGTAGATT', 'GGTCAGTA', 'CACGTCTC', 'TTAGGCAA', 'CAAGTTAA', 'TGTTAAAG', 'GGTCTACG', 'CGCAAATA', 'TCCTGGAT', 'CAGGAACA', 'CTGCGCGT', 'TCGCCAGA', 'TGTAGATT', 'GGTCAGTA', 'CACGTCTC', 'TTAGGCAA', 'CAAGTTAA', 'TGTTAAAG', 'GGTCTACG', 'CGCAAATA', 'TCCTGGAT', 'CAGGAACA', 'CTGCGCGT', 'TCGCCAGA', 'TGTAGATT', 'GGTCAGTA', 'CACGTCTC', 'TTAGGCAA', 'CAAGTTAA', 'TGTTAAAG', 'GGTCTACG', 'CGCAAATA', 'TCCTGGAT', 'CAGGAACA', 'CTGCGCGT', 'TCGCCAGA', 'TGTAGATT', 'GGTCAGTA', 'CACGTCTC', 'TTAGGCAA', 'CAAGTTAA', 'TGTTAAAG', 'GGTCTACG', 'CGCAAATA', 'TCCTGGAT', 'CAGGAACA', 'CTGCGCGT', 'TCGCCAGA', 'TGTAGATT', 'GGTCAGTA', 'CACGTCTC', 'TTAGGCAA', 'CAAGTTAA', 'TGTTAAAG', 'GGTCTACG', 'CGCAAATA', 'TCCTGGAT', 'CAGGAACA', 'CTGCGCGT', 'TCGCCAGA', 'TGTAGATT', 'GGTCAGTA', 'CACGTCTC', 'TTAGGCAA', 'CAAGTTAA', 'TGTTAAAG', 'GGTCTACG', 'CGCAAATA', 'TCCTGGAT', 'CAGGAACA', 'CTGCGCGT', 'TCGCCAGA', 'TGTAGATT', 'GGTCAGTA', 'CACGTCTC', 'TTAGGCAA', 'CAAGTTAA', 'TGTTAAAG', 'GGTCTACG', 'CGCAAATA', 'TCCTGGAT', 'CAGGAACA', 'CTGCGCGT', 'TCGCCAGA', 'TGTAGATT', 'GGTCAGTA']\n",
      "['N5049', 'N5050', 'N5051', 'N5052', 'N5053', 'N5054', 'N5055', 'N5056', 'N5057', 'N5058', 'N5059', 'N5060', 'N5049', 'N5050', 'N5051', 'N5052', 'N5053', 'N5054', 'N5055', 'N5056', 'N5057', 'N5058', 'N5059', 'N5060', 'N5049', 'N5050', 'N5051', 'N5052', 'N5053', 'N5054', 'N5055', 'N5056', 'N5057', 'N5058', 'N5059', 'N5060', 'N5049', 'N5050', 'N5051', 'N5052', 'N5053', 'N5054', 'N5055', 'N5056', 'N5057', 'N5058', 'N5059', 'N5060', 'N5049', 'N5050', 'N5051', 'N5052', 'N5053', 'N5054', 'N5055', 'N5056', 'N5057', 'N5058', 'N5059', 'N5060', 'N5049', 'N5050', 'N5051', 'N5052', 'N5053', 'N5054', 'N5055', 'N5056', 'N5057', 'N5058', 'N5059', 'N5060', 'N5049', 'N5050', 'N5051', 'N5052', 'N5053', 'N5054', 'N5055', 'N5056', 'N5057', 'N5058', 'N5059', 'N5060', 'N5049', 'N5050', 'N5051', 'N5052', 'N5053', 'N5054', 'N5055', 'N5056', 'N5057', 'N5058', 'N5059', 'N5060']\n"
     ]
    }
   ],
   "source": [
    "# This is correctly formatted for ad1_i5\n",
    "RowNum = 5 #Make this a variable to be read in by argparse\n",
    "y  = []\n",
    "y2 = []\n",
    "y3 = []\n",
    "for i in [x+1 for x in range(8)]:\n",
    "    for j in [x+1 for x in range(12)]:\n",
    "        y.append(j+12*(RowNum-1)) \n",
    "        y2.append(ad1_dict['Sequence'].loc[j+12*(RowNum-1)])\n",
    "        y3.append(ad1_dict['Name'].loc[j+12*(RowNum-1)])\n",
    "print y\n",
    "print type(y)\n",
    "print len(y)\n",
    "print y2\n",
    "print y3\n",
    "\n",
    "#ad1_dict['Sequence'].loc[5]"
   ]
  },
  {
   "cell_type": "code",
   "execution_count": 289,
   "metadata": {
    "collapsed": false
   },
   "outputs": [],
   "source": [
    "# Now I need to figure out how to take x2 and y2 and put them in a new dataframe\n",
    "# Make the indexing column the same as the one from \n",
    "#d = pd.DataFrame(data='index')\n"
   ]
  },
  {
   "cell_type": "code",
   "execution_count": 290,
   "metadata": {
    "collapsed": false
   },
   "outputs": [
    {
     "data": {
      "text/plain": [
       "array([ 1,  2,  3,  4,  5,  6,  7,  8,  9, 10, 11, 12, 13, 14, 15, 16, 17,\n",
       "       18, 19, 20, 21, 22, 23, 24,  1,  2,  3,  4,  5,  6,  7,  8,  1,  2,\n",
       "        3,  4,  5,  6,  7,  8,  0,  0,  1,  2,  3,  4,  5,  6,  7,  8,  9,\n",
       "       10, 11, 12, 13, 14, 15, 16, 17, 18, 19, 20, 21, 22, 23, 24, 25, 26,\n",
       "       27, 28, 29, 30, 31, 32, 33, 34, 35, 36, 37, 38, 39, 40, 41, 42, 43,\n",
       "       44, 45, 46, 47, 48, 49, 50, 51, 52, 53, 54, 55, 56, 57, 58, 59, 60,\n",
       "       61, 62, 63, 64, 65, 66, 67, 68, 69, 70, 71, 72, 73, 74, 75, 76, 77,\n",
       "       78, 79, 80, 81, 82, 83, 84, 85, 86, 87, 88, 89, 90, 91, 92, 93, 94,\n",
       "       95, 96,  1,  2,  3,  4,  5,  6,  7,  8,  9, 10, 11, 12, 13, 14, 15,\n",
       "       16, 17, 18, 19, 20, 21, 22, 23, 24, 25, 26, 27, 28, 29, 30, 31, 32,\n",
       "       33, 34, 35, 36, 37, 38, 39, 40, 41, 42, 43, 44, 45, 46, 47, 48, 49,\n",
       "       50, 51, 52, 53, 54, 55, 56, 57, 58, 59, 60, 61, 62, 63, 64, 65, 66,\n",
       "       67, 68, 69, 70, 71, 72, 73, 74, 75, 76, 77, 78, 79, 80, 81, 82, 83,\n",
       "       84, 85, 86, 87, 88, 89, 90, 91, 92,  1,  2,  3,  4,  5,  6,  7,  8,\n",
       "        9, 10, 11, 12, 13, 14, 15, 16, 17, 18, 19, 20, 21, 22, 23, 24, 25,\n",
       "       26, 27, 28, 29, 30, 31, 32, 33, 34, 35, 36, 37, 38, 39, 40, 41, 42,\n",
       "       43, 44, 45, 46, 47, 48, 49, 50, 51, 52, 53, 54, 55, 56, 57, 58, 59,\n",
       "       60, 61, 62, 63, 64, 65, 66, 67, 68, 69, 70, 71, 72, 73, 74, 75, 76,\n",
       "       77, 78, 79, 80, 81, 82, 83, 84, 85, 86, 87, 88, 89, 90, 91, 92])"
      ]
     },
     "execution_count": 290,
     "metadata": {},
     "output_type": "execute_result"
    }
   ],
   "source": [
    "Barcodes.index.values"
   ]
  },
  {
   "cell_type": "code",
   "execution_count": 319,
   "metadata": {
    "collapsed": false,
    "scrolled": true
   },
   "outputs": [],
   "source": [
    "CommonName='CellID-'\n",
    "cols = ['Sample_ID','Sample_Name','Sample_Well','I7_Index_ID','index','I5_Index_ID','index2','Sample_Project','Description']\n",
    "idx = [CommonName+str(i + 1) for i in range(96)]"
   ]
  },
  {
   "cell_type": "code",
   "execution_count": 320,
   "metadata": {
    "collapsed": false
   },
   "outputs": [
    {
     "data": {
      "text/html": [
       "<div>\n",
       "<table border=\"1\" class=\"dataframe\">\n",
       "  <thead>\n",
       "    <tr style=\"text-align: right;\">\n",
       "      <th></th>\n",
       "      <th>Sample_ID</th>\n",
       "      <th>Sample_Name</th>\n",
       "      <th>Sample_Well</th>\n",
       "      <th>I7_Index_ID</th>\n",
       "      <th>index</th>\n",
       "      <th>I5_Index_ID</th>\n",
       "      <th>index2</th>\n",
       "      <th>Sample_Project</th>\n",
       "      <th>Description</th>\n",
       "    </tr>\n",
       "  </thead>\n",
       "  <tbody>\n",
       "    <tr>\n",
       "      <th>CellID-1</th>\n",
       "      <td>NaN</td>\n",
       "      <td>NaN</td>\n",
       "      <td>NaN</td>\n",
       "      <td>NaN</td>\n",
       "      <td>NaN</td>\n",
       "      <td>NaN</td>\n",
       "      <td>NaN</td>\n",
       "      <td>NaN</td>\n",
       "      <td>NaN</td>\n",
       "    </tr>\n",
       "    <tr>\n",
       "      <th>CellID-2</th>\n",
       "      <td>NaN</td>\n",
       "      <td>NaN</td>\n",
       "      <td>NaN</td>\n",
       "      <td>NaN</td>\n",
       "      <td>NaN</td>\n",
       "      <td>NaN</td>\n",
       "      <td>NaN</td>\n",
       "      <td>NaN</td>\n",
       "      <td>NaN</td>\n",
       "    </tr>\n",
       "    <tr>\n",
       "      <th>CellID-3</th>\n",
       "      <td>NaN</td>\n",
       "      <td>NaN</td>\n",
       "      <td>NaN</td>\n",
       "      <td>NaN</td>\n",
       "      <td>NaN</td>\n",
       "      <td>NaN</td>\n",
       "      <td>NaN</td>\n",
       "      <td>NaN</td>\n",
       "      <td>NaN</td>\n",
       "    </tr>\n",
       "    <tr>\n",
       "      <th>CellID-4</th>\n",
       "      <td>NaN</td>\n",
       "      <td>NaN</td>\n",
       "      <td>NaN</td>\n",
       "      <td>NaN</td>\n",
       "      <td>NaN</td>\n",
       "      <td>NaN</td>\n",
       "      <td>NaN</td>\n",
       "      <td>NaN</td>\n",
       "      <td>NaN</td>\n",
       "    </tr>\n",
       "    <tr>\n",
       "      <th>CellID-5</th>\n",
       "      <td>NaN</td>\n",
       "      <td>NaN</td>\n",
       "      <td>NaN</td>\n",
       "      <td>NaN</td>\n",
       "      <td>NaN</td>\n",
       "      <td>NaN</td>\n",
       "      <td>NaN</td>\n",
       "      <td>NaN</td>\n",
       "      <td>NaN</td>\n",
       "    </tr>\n",
       "  </tbody>\n",
       "</table>\n",
       "</div>"
      ],
      "text/plain": [
       "         Sample_ID Sample_Name Sample_Well I7_Index_ID index I5_Index_ID  \\\n",
       "CellID-1       NaN         NaN         NaN         NaN   NaN         NaN   \n",
       "CellID-2       NaN         NaN         NaN         NaN   NaN         NaN   \n",
       "CellID-3       NaN         NaN         NaN         NaN   NaN         NaN   \n",
       "CellID-4       NaN         NaN         NaN         NaN   NaN         NaN   \n",
       "CellID-5       NaN         NaN         NaN         NaN   NaN         NaN   \n",
       "\n",
       "         index2 Sample_Project Description  \n",
       "CellID-1    NaN            NaN         NaN  \n",
       "CellID-2    NaN            NaN         NaN  \n",
       "CellID-3    NaN            NaN         NaN  \n",
       "CellID-4    NaN            NaN         NaN  \n",
       "CellID-5    NaN            NaN         NaN  "
      ]
     },
     "execution_count": 320,
     "metadata": {},
     "output_type": "execute_result"
    }
   ],
   "source": [
    "PrimerSheet=pd.DataFrame(columns=cols,index=idx)\n",
    "\n",
    "PrimerSheet.head()"
   ]
  },
  {
   "cell_type": "code",
   "execution_count": 367,
   "metadata": {
    "collapsed": false
   },
   "outputs": [
    {
     "data": {
      "text/html": [
       "<div>\n",
       "<table border=\"1\" class=\"dataframe\">\n",
       "  <thead>\n",
       "    <tr style=\"text-align: right;\">\n",
       "      <th></th>\n",
       "      <th>Sample_ID</th>\n",
       "      <th>Sample_Name</th>\n",
       "      <th>Sample_Well</th>\n",
       "      <th>I7_Index_ID</th>\n",
       "      <th>index</th>\n",
       "      <th>I5_Index_ID</th>\n",
       "      <th>index2</th>\n",
       "      <th>Sample_Project</th>\n",
       "      <th>Description</th>\n",
       "    </tr>\n",
       "  </thead>\n",
       "  <tbody>\n",
       "    <tr>\n",
       "      <th>CellID-1</th>\n",
       "      <td>NaN</td>\n",
       "      <td>NaN</td>\n",
       "      <td>NaN</td>\n",
       "      <td>GGACTCCT</td>\n",
       "      <td>N5049</td>\n",
       "      <td>CACGTCTC</td>\n",
       "      <td>N7005</td>\n",
       "      <td>NaN</td>\n",
       "      <td>NaN</td>\n",
       "    </tr>\n",
       "    <tr>\n",
       "      <th>CellID-2</th>\n",
       "      <td>NaN</td>\n",
       "      <td>NaN</td>\n",
       "      <td>NaN</td>\n",
       "      <td>GTGTGGTG</td>\n",
       "      <td>N5050</td>\n",
       "      <td>TTAGGCAA</td>\n",
       "      <td>N7017</td>\n",
       "      <td>NaN</td>\n",
       "      <td>NaN</td>\n",
       "    </tr>\n",
       "    <tr>\n",
       "      <th>CellID-3</th>\n",
       "      <td>NaN</td>\n",
       "      <td>NaN</td>\n",
       "      <td>NaN</td>\n",
       "      <td>ATTGCCGG</td>\n",
       "      <td>N5051</td>\n",
       "      <td>CAAGTTAA</td>\n",
       "      <td>N7029</td>\n",
       "      <td>NaN</td>\n",
       "      <td>NaN</td>\n",
       "    </tr>\n",
       "    <tr>\n",
       "      <th>CellID-4</th>\n",
       "      <td>NaN</td>\n",
       "      <td>NaN</td>\n",
       "      <td>NaN</td>\n",
       "      <td>TACACCTC</td>\n",
       "      <td>N5052</td>\n",
       "      <td>TGTTAAAG</td>\n",
       "      <td>N7041</td>\n",
       "      <td>NaN</td>\n",
       "      <td>NaN</td>\n",
       "    </tr>\n",
       "    <tr>\n",
       "      <th>CellID-5</th>\n",
       "      <td>NaN</td>\n",
       "      <td>NaN</td>\n",
       "      <td>NaN</td>\n",
       "      <td>CATCCTGT</td>\n",
       "      <td>N5053</td>\n",
       "      <td>GGTCTACG</td>\n",
       "      <td>N7053</td>\n",
       "      <td>NaN</td>\n",
       "      <td>NaN</td>\n",
       "    </tr>\n",
       "  </tbody>\n",
       "</table>\n",
       "</div>"
      ],
      "text/plain": [
       "         Sample_ID Sample_Name Sample_Well I7_Index_ID  index I5_Index_ID  \\\n",
       "CellID-1       NaN         NaN         NaN    GGACTCCT  N5049    CACGTCTC   \n",
       "CellID-2       NaN         NaN         NaN    GTGTGGTG  N5050    TTAGGCAA   \n",
       "CellID-3       NaN         NaN         NaN    ATTGCCGG  N5051    CAAGTTAA   \n",
       "CellID-4       NaN         NaN         NaN    TACACCTC  N5052    TGTTAAAG   \n",
       "CellID-5       NaN         NaN         NaN    CATCCTGT  N5053    GGTCTACG   \n",
       "\n",
       "         index2 Sample_Project Description  \n",
       "CellID-1  N7005            NaN         NaN  \n",
       "CellID-2  N7017            NaN         NaN  \n",
       "CellID-3  N7029            NaN         NaN  \n",
       "CellID-4  N7041            NaN         NaN  \n",
       "CellID-5  N7053            NaN         NaN  "
      ]
     },
     "execution_count": 367,
     "metadata": {},
     "output_type": "execute_result"
    }
   ],
   "source": [
    "PrimerSheet['I5_Index_ID']=y2\n",
    "PrimerSheet['index']=y3\n",
    "PrimerSheet['I7_Index_ID']=x2\n",
    "PrimerSheet['index2']=x3\n",
    "PrimerSheet.head()"
   ]
  },
  {
   "cell_type": "code",
   "execution_count": null,
   "metadata": {
    "collapsed": false
   },
   "outputs": [],
   "source": [
    "#I think that all that's left is to interface the script with argparse!!"
   ]
  },
  {
   "cell_type": "code",
   "execution_count": null,
   "metadata": {
    "collapsed": true
   },
   "outputs": [],
   "source": []
  }
 ],
 "metadata": {
  "kernelspec": {
   "display_name": "Python 2",
   "language": "python",
   "name": "python2"
  },
  "language_info": {
   "codemirror_mode": {
    "name": "ipython",
    "version": 2
   },
   "file_extension": ".py",
   "mimetype": "text/x-python",
   "name": "python",
   "nbconvert_exporter": "python",
   "pygments_lexer": "ipython2",
   "version": "2.7.10"
  }
 },
 "nbformat": 4,
 "nbformat_minor": 0
}
