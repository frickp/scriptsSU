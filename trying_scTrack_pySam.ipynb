{
 "cells": [
  {
   "cell_type": "code",
   "execution_count": 2,
   "metadata": {
    "collapsed": true
   },
   "outputs": [],
   "source": [
    "import pysam\n",
    "import matplotlib.pyplot as plt"
   ]
  },
  {
   "cell_type": "code",
   "execution_count": 35,
   "metadata": {
    "collapsed": false
   },
   "outputs": [],
   "source": [
    "#First, define the genome region to match the scATAC-seq paper\n",
    "samfile = pysam.AlignmentFile(\"/Users/frickpl/Desktop/Data/First_C1/PC9.sc.mergeAll.bam\", \"rb\")"
   ]
  },
  {
   "cell_type": "code",
   "execution_count": 48,
   "metadata": {
    "collapsed": false
   },
   "outputs": [
    {
     "name": "stdout",
     "output_type": "stream",
     "text": [
      "[36192000, 36193000]\n",
      "[36193000, 36194000]\n",
      "[36194000, 36195000]\n",
      "[36195000, 36196000]\n",
      "[36196000, 36197000]\n",
      "[36197000, 36198000]\n",
      "[36198000, 36199000]\n",
      "[36199000, 36200000]\n",
      "[36200000, 36201000]\n",
      "[36201000, 36202000]\n",
      "[36202000, 36203000]\n",
      "[36203000, 36204000]\n",
      "[36204000, 36205000]\n",
      "[36205000, 36206000]\n",
      "[36206000, 36207000]\n",
      "[36207000, 36208000]\n",
      "[36208000, 36209000]\n",
      "[36209000, 36210000]\n",
      "[36210000, 36211000]\n",
      "[36211000, 36212000]\n",
      "[36212000, 36213000]\n",
      "[36213000, 36214000]\n",
      "[36214000, 36215000]\n",
      "[36215000, 36216000]\n",
      "[36216000, 36217000]\n",
      "[36217000, 36218000]\n",
      "[36218000, 36219000]\n",
      "[36219000, 36220000]\n",
      "[36220000, 36221000]\n",
      "[36221000, 36222000]\n",
      "[36222000, 36223000]\n",
      "[36223000, 36224000]\n",
      "[36224000, 36225000]\n",
      "[36225000, 36226000]\n",
      "[36226000, 36227000]\n",
      "[36227000, 36228000]\n",
      "[36228000, 36229000]\n",
      "[36229000, 36230000]\n",
      "[36230000, 36231000]\n",
      "[36231000, 36232000]\n",
      "[36232000, 36233000]\n",
      "[36233000, 36234000]\n",
      "[36234000, 36235000]\n",
      "[36235000, 36236000]\n",
      "[36236000, 36237000]\n",
      "[36237000, 36238000]\n",
      "[36238000, 36239000]\n",
      "[36239000, 36240000]\n",
      "[36240000, 36241000]\n",
      "[36241000, 36242000]\n"
     ]
    }
   ],
   "source": [
    "chrLoc = {'ch': 'chr19', 'start': 36192000 , 'end': 36242000}\n",
    "groupNum = 50\n",
    "groupSize =  (chrLoc['end']-chrLoc['start'])/groupNum\n",
    "groups = range(chrLoc['start'],chrLoc['end'],groupSize)\n",
    "\n",
    "#for i in groups:\n",
    "#    print [i , i + groupSize]"
   ]
  },
  {
   "cell_type": "code",
   "execution_count": 52,
   "metadata": {
    "collapsed": false
   },
   "outputs": [
    {
     "name": "stdout",
     "output_type": "stream",
     "text": [
      "0\n",
      "20\n",
      "0\n",
      "0\n",
      "0\n",
      "0\n",
      "0\n",
      "6\n",
      "1\n",
      "1\n",
      "0\n",
      "0\n",
      "0\n",
      "0\n",
      "0\n",
      "18\n",
      "55\n",
      "4\n",
      "0\n",
      "0\n",
      "0\n",
      "0\n",
      "0\n",
      "0\n",
      "0\n",
      "4\n",
      "0\n",
      "0\n",
      "2\n",
      "0\n",
      "10\n",
      "0\n",
      "0\n",
      "0\n",
      "0\n",
      "4\n",
      "0\n",
      "0\n",
      "0\n",
      "26\n",
      "0\n",
      "0\n",
      "0\n",
      "24\n",
      "30\n",
      "0\n",
      "2\n",
      "45\n",
      "0\n",
      "2\n"
     ]
    }
   ],
   "source": [
    "for i in groups:\n",
    "    #print [i , i + groupSize]\n",
    "    readCount=0\n",
    "    for reads in samfile.fetch('chr19',i,i + groupSize):\n",
    "        readCount = readCount + 1\n",
    "    print readCount\n",
    "    \n",
    "#I think that it works!!!!"
   ]
  },
  {
   "cell_type": "code",
   "execution_count": 51,
   "metadata": {
    "collapsed": false
   },
   "outputs": [
    {
     "name": "stdout",
     "output_type": "stream",
     "text": [
      "26\n"
     ]
    }
   ],
   "source": [
    "# Have an outer for loop that loads in all the groups. \n",
    "\n",
    "readCount=0\n",
    "for reads in samfile.fetch('chr19',36192000,36200000):\n",
    "    readCount = readCount + 1\n",
    "    \n",
    "print readCount"
   ]
  },
  {
   "cell_type": "markdown",
   "metadata": {},
   "source": [
    "What does it mean when you have a fragment at a position? Is this a Tn5 insertion? Because a multinucleosomal fragment could span a couple of sequence chunks..."
   ]
  },
  {
   "cell_type": "code",
   "execution_count": null,
   "metadata": {
    "collapsed": true
   },
   "outputs": [],
   "source": []
  }
 ],
 "metadata": {
  "kernelspec": {
   "display_name": "Python 2",
   "language": "python",
   "name": "python2"
  },
  "language_info": {
   "codemirror_mode": {
    "name": "ipython",
    "version": 2
   },
   "file_extension": ".py",
   "mimetype": "text/x-python",
   "name": "python",
   "nbconvert_exporter": "python",
   "pygments_lexer": "ipython2",
   "version": "2.7.10"
  }
 },
 "nbformat": 4,
 "nbformat_minor": 0
}
