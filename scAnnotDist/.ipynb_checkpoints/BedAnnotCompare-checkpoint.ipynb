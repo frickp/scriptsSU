{
 "cells": [
  {
   "cell_type": "code",
   "execution_count": 2,
   "metadata": {
    "collapsed": false
   },
   "outputs": [],
   "source": [
    "#Peter Frick, Stanford University\n",
    "\n",
    "%matplotlib inline\n",
    "import pandas as pd\n",
    "import matplotlib.pyplot as plt\n",
    "import numpy as np\n",
    "import matplotlib.cm as cm"
   ]
  },
  {
   "cell_type": "markdown",
   "metadata": {},
   "source": [
    "Purpose\n",
    "To look at the relative distribution of genomic annotations in samples, defined using bedtools.\n",
    "\n",
    "There are four conditions\n",
    "control:  This is all the called peaks in the 150624 PC9 scATAC (normal growth media) experiment\n",
    "erl:      These are all the called peaks in the 150723 PC9 scATAC (+erlotinib 3d) expeirment\n",
    "upInErl:  Peaks in erlotinib, but not in control. Called using \"bedtools intersect -v\"\n",
    "upInCtrl: Peaks in control, but not in erlotinib. Called using \"bedtools intersect -v\"\n",
    "\n",
    "0. control\n",
    "1. erl\n",
    "2. upInCtrl\n",
    "3. upInErl"
   ]
  },
  {
   "cell_type": "code",
   "execution_count": 3,
   "metadata": {
    "collapsed": false
   },
   "outputs": [
    {
     "data": {
      "text/html": [
       "<div>\n",
       "<table border=\"1\" class=\"dataframe\">\n",
       "  <thead>\n",
       "    <tr style=\"text-align: right;\">\n",
       "      <th></th>\n",
       "      <th>Annotation</th>\n",
       "      <th>Number of peaks</th>\n",
       "      <th>Total size (bp)</th>\n",
       "      <th>Log2 Enrichment</th>\n",
       "      <th>Condition</th>\n",
       "    </tr>\n",
       "  </thead>\n",
       "  <tbody>\n",
       "    <tr>\n",
       "      <th>0</th>\n",
       "      <td>3UTR</td>\n",
       "      <td>422.0</td>\n",
       "      <td>21894917</td>\n",
       "      <td>0.226</td>\n",
       "      <td>control</td>\n",
       "    </tr>\n",
       "    <tr>\n",
       "      <th>1</th>\n",
       "      <td>miRNA</td>\n",
       "      <td>1.0</td>\n",
       "      <td>48690</td>\n",
       "      <td>0.317</td>\n",
       "      <td>control</td>\n",
       "    </tr>\n",
       "    <tr>\n",
       "      <th>2</th>\n",
       "      <td>ncRNA</td>\n",
       "      <td>201.0</td>\n",
       "      <td>5103632</td>\n",
       "      <td>1.257</td>\n",
       "      <td>control</td>\n",
       "    </tr>\n",
       "    <tr>\n",
       "      <th>3</th>\n",
       "      <td>TTS</td>\n",
       "      <td>758.0</td>\n",
       "      <td>27937354</td>\n",
       "      <td>0.719</td>\n",
       "      <td>control</td>\n",
       "    </tr>\n",
       "    <tr>\n",
       "      <th>4</th>\n",
       "      <td>pseudo</td>\n",
       "      <td>32.0</td>\n",
       "      <td>1828155</td>\n",
       "      <td>0.087</td>\n",
       "      <td>control</td>\n",
       "    </tr>\n",
       "  </tbody>\n",
       "</table>\n",
       "</div>"
      ],
      "text/plain": [
       "  Annotation Number of peaks Total size (bp) Log2 Enrichment Condition\n",
       "0       3UTR           422.0        21894917           0.226   control\n",
       "1      miRNA             1.0           48690           0.317   control\n",
       "2      ncRNA           201.0         5103632           1.257   control\n",
       "3        TTS           758.0        27937354           0.719   control\n",
       "4     pseudo            32.0         1828155           0.087   control"
      ]
     },
     "execution_count": 3,
     "metadata": {},
     "output_type": "execute_result"
    }
   ],
   "source": [
    "a1=pd.read_csv('ctrlPeakStats.bed',delimiter='\\t')\n",
    "a1=a1.loc[0:9] #only keep the non-zero entries\n",
    "a1['Condition']='control'\n",
    "a1.head()\n",
    "\n",
    "a2=pd.read_csv('erlPeakStats.bed',delimiter='\\t')\n",
    "a2=a2.loc[0:9]\n",
    "a2['Condition']='erl'\n",
    "a2\n",
    "\n",
    "a3=pd.read_csv('upInCtrlPeakStats.bed',delimiter='\\t')\n",
    "a3=a3.loc[0:9]\n",
    "a3['Condition']='upInCtrl'\n",
    "\n",
    "a4=pd.read_csv('upInErlpeakStats.bed',delimiter='\\t')\n",
    "a4=a4.loc[0:9]\n",
    "a4['Condition']='upInErl'\n",
    "\n",
    "a=pd.concat([a1,a2,a3,a4])\n",
    "\n",
    "#a[(a.Condition)=='control']\n",
    "a.head()"
   ]
  },
  {
   "cell_type": "markdown",
   "metadata": {},
   "source": [
    "Clean up the variables in memory"
   ]
  },
  {
   "cell_type": "code",
   "execution_count": 4,
   "metadata": {
    "collapsed": false
   },
   "outputs": [],
   "source": [
    "%reset_selective -f a[1-4]\n"
   ]
  },
  {
   "cell_type": "markdown",
   "metadata": {},
   "source": [
    "Calculate the percentage of peaks falling into certain genomic region."
   ]
  },
  {
   "cell_type": "code",
   "execution_count": 5,
   "metadata": {
    "collapsed": false
   },
   "outputs": [
    {
     "data": {
      "text/html": [
       "<div>\n",
       "<table border=\"1\" class=\"dataframe\">\n",
       "  <thead>\n",
       "    <tr style=\"text-align: right;\">\n",
       "      <th></th>\n",
       "      <th>Annotation</th>\n",
       "      <th>Number of peaks</th>\n",
       "      <th>Total size (bp)</th>\n",
       "      <th>Log2 Enrichment</th>\n",
       "      <th>Condition</th>\n",
       "      <th>PerPeaks</th>\n",
       "    </tr>\n",
       "  </thead>\n",
       "  <tbody>\n",
       "    <tr>\n",
       "      <th>0</th>\n",
       "      <td>3UTR</td>\n",
       "      <td>422.0</td>\n",
       "      <td>21894917</td>\n",
       "      <td>0.226</td>\n",
       "      <td>control</td>\n",
       "      <td>0.00844</td>\n",
       "    </tr>\n",
       "    <tr>\n",
       "      <th>1</th>\n",
       "      <td>miRNA</td>\n",
       "      <td>1.0</td>\n",
       "      <td>48690</td>\n",
       "      <td>0.317</td>\n",
       "      <td>control</td>\n",
       "      <td>0.00002</td>\n",
       "    </tr>\n",
       "    <tr>\n",
       "      <th>2</th>\n",
       "      <td>ncRNA</td>\n",
       "      <td>201.0</td>\n",
       "      <td>5103632</td>\n",
       "      <td>1.257</td>\n",
       "      <td>control</td>\n",
       "      <td>0.00402</td>\n",
       "    </tr>\n",
       "    <tr>\n",
       "      <th>3</th>\n",
       "      <td>TTS</td>\n",
       "      <td>758.0</td>\n",
       "      <td>27937354</td>\n",
       "      <td>0.719</td>\n",
       "      <td>control</td>\n",
       "      <td>0.01516</td>\n",
       "    </tr>\n",
       "    <tr>\n",
       "      <th>4</th>\n",
       "      <td>pseudo</td>\n",
       "      <td>32.0</td>\n",
       "      <td>1828155</td>\n",
       "      <td>0.087</td>\n",
       "      <td>control</td>\n",
       "      <td>0.00064</td>\n",
       "    </tr>\n",
       "  </tbody>\n",
       "</table>\n",
       "</div>"
      ],
      "text/plain": [
       "  Annotation Number of peaks Total size (bp) Log2 Enrichment Condition  \\\n",
       "0       3UTR           422.0        21894917           0.226   control   \n",
       "1      miRNA             1.0           48690           0.317   control   \n",
       "2      ncRNA           201.0         5103632           1.257   control   \n",
       "3        TTS           758.0        27937354           0.719   control   \n",
       "4     pseudo            32.0         1828155           0.087   control   \n",
       "\n",
       "   PerPeaks  \n",
       "0   0.00844  \n",
       "1   0.00002  \n",
       "2   0.00402  \n",
       "3   0.01516  \n",
       "4   0.00064  "
      ]
     },
     "execution_count": 5,
     "metadata": {},
     "output_type": "execute_result"
    }
   ],
   "source": [
    "#Helpful site for indexing http://stackoverflow.com/questions/21800169/python-pandas-get-index-of-rows-which-column-matches-certain-value\n",
    "\n",
    "rollingPeaks=[]\n",
    "a['PerPeaks']=0; PerPeaks=[]\n",
    "condn=set(a['Condition'])\n",
    "for i in condn:\n",
    "    tempPeak = a['Number of peaks'].loc[a['Condition']==i] #Get the right condition\n",
    "    tempPeak = map(float,tempPeak) #Convert to float\n",
    "    tempPeak = tempPeak/np.sum(tempPeak)\n",
    "    rollingPeaks = np.append(rollingPeaks,tempPeak)\n",
    "\n",
    "a['PerPeaks']=rollingPeaks\n",
    "a.head()"
   ]
  },
  {
   "cell_type": "code",
   "execution_count": 6,
   "metadata": {
    "collapsed": false
   },
   "outputs": [
    {
     "name": "stdout",
     "output_type": "stream",
     "text": [
      "[ 0.   0.4  0.8  1.2]\n"
     ]
    },
    {
     "data": {
      "text/plain": [
       "array([0, 1, 2, 3])"
      ]
     },
     "execution_count": 6,
     "metadata": {},
     "output_type": "execute_result"
    }
   ],
   "source": [
    "print np.arange(len(condn))*0.4\n",
    "np.arange(len(condn))"
   ]
  },
  {
   "cell_type": "code",
   "execution_count": 42,
   "metadata": {
    "collapsed": false
   },
   "outputs": [
    {
     "data": {
      "image/png": "[encoded data removed]",
      "text/plain": [
       "<matplotlib.figure.Figure at 0x1078c4cd0>"
      ]
     },
     "metadata": {},
     "output_type": "display_data"
    }
   ],
   "source": [
    "#Works\n",
    "\n",
    "#Documentation for adding color\n",
    "# http://stackoverflow.com/questions/12236566/setting-different-color-for-each-series-in-scatter-plot-on-matplotlib\n",
    "#Documentation for adding legend\n",
    "#http://stackoverflow.com/questions/4700614/how-to-put-the-legend-out-of-the-plot\n",
    "\n",
    "fig = plt.figure(figsize=(6,6), dpi=1600)\n",
    "ax = plt.subplot(111)\n",
    "\n",
    "annoIdx = set(a['Annotation'])\n",
    "condnIdx = np.arange(len(condn))*0.4   # the x locations for the groups\n",
    "width = 0.35       # the width of the bars: can also be len(x) sequence\n",
    "\n",
    "x = np.arange(len(condnIdx))\n",
    "ys = [i+x+(i*x)**2 for i in range(10)]\n",
    "\n",
    "#colors = cm.rainbow(np.linspace(0, 1, len(ys)))\n",
    "colors = cm.coolwarm(np.linspace(0, 1, len(ys)))\n",
    "\n",
    "\n",
    "\n",
    "rollBottom = np.repeat(0,len(condn)) #Create an index so the bars are stacked on top of each other\n",
    "colIdx = 0\n",
    "for i in annoIdx:\n",
    "    ax.bar(condnIdx, a['PerPeaks'][a['Annotation']==i], width, color=colors[colIdx],bottom=rollBottom)\n",
    "    rollBottom = rollBottom + list(a['PerPeaks'][a['Annotation']==i])\n",
    "    colIdx = colIdx + 1\n",
    "\n",
    "plt.ylabel('Relative peak number',fontsize=16)\n",
    "plt.title('Genome annotation of called peaks',fontsize=16)\n",
    "plt.xticks(condnIdx+width/2., [i for i in condn],fontsize=16)\n",
    "\n",
    "\n",
    "box = ax.get_position()\n",
    "ax.set_position([box.x0, box.y0, box.width * 0.8, box.height*0.95])\n",
    "# Put a legend to the right of the current axis\n",
    "ax.legend([i for i in annoIdx],loc='center left', bbox_to_anchor=(1, 0.5))\n",
    "ax.set\n",
    "\n",
    "plt.show()"
   ]
  }
 ],
 "metadata": {
  "kernelspec": {
   "display_name": "Python 2",
   "language": "python",
   "name": "python2"
  },
  "language_info": {
   "codemirror_mode": {
    "name": "ipython",
    "version": 2
   },
   "file_extension": ".py",
   "mimetype": "text/x-python",
   "name": "python",
   "nbconvert_exporter": "python",
   "pygments_lexer": "ipython2",
   "version": "2.7.10"
  }
 },
 "nbformat": 4,
 "nbformat_minor": 0
}
