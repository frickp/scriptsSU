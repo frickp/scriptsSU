{
 "cells": [
  {
   "cell_type": "code",
   "execution_count": 92,
   "metadata": {
    "collapsed": false
   },
   "outputs": [],
   "source": [
    "%matplotlib inline\n",
    "import pandas as pd\n",
    "import matplotlib.pyplot as plt\n",
    "import numpy as np\n",
    "from scipy import stats"
   ]
  },
  {
   "cell_type": "code",
   "execution_count": 2,
   "metadata": {
    "collapsed": false
   },
   "outputs": [
    {
     "data": {
      "text/html": [
       "<div>\n",
       "<table border=\"1\" class=\"dataframe\">\n",
       "  <thead>\n",
       "    <tr style=\"text-align: right;\">\n",
       "      <th></th>\n",
       "      <th>TF</th>\n",
       "      <th>Dev</th>\n",
       "      <th>condition</th>\n",
       "    </tr>\n",
       "  </thead>\n",
       "  <tbody>\n",
       "    <tr>\n",
       "      <th>0</th>\n",
       "      <td>'YY1-MA0095.2'</td>\n",
       "      <td>2.2185</td>\n",
       "      <td>erl</td>\n",
       "    </tr>\n",
       "    <tr>\n",
       "      <th>1</th>\n",
       "      <td>'TLX1-NFIC-MA0119.1'</td>\n",
       "      <td>1.8080</td>\n",
       "      <td>erl</td>\n",
       "    </tr>\n",
       "    <tr>\n",
       "      <th>2</th>\n",
       "      <td>'EHF-MA0598.1'</td>\n",
       "      <td>1.7852</td>\n",
       "      <td>erl</td>\n",
       "    </tr>\n",
       "    <tr>\n",
       "      <th>3</th>\n",
       "      <td>'Rxra-MA0512.1'</td>\n",
       "      <td>1.6633</td>\n",
       "      <td>erl</td>\n",
       "    </tr>\n",
       "    <tr>\n",
       "      <th>4</th>\n",
       "      <td>'RXR-RAR_DR5-MA0159.1'</td>\n",
       "      <td>1.6278</td>\n",
       "      <td>erl</td>\n",
       "    </tr>\n",
       "  </tbody>\n",
       "</table>\n",
       "</div>"
      ],
      "text/plain": [
       "                           TF     Dev condition\n",
       "0              'YY1-MA0095.2'  2.2185       erl\n",
       "1        'TLX1-NFIC-MA0119.1'  1.8080       erl\n",
       "2              'EHF-MA0598.1'  1.7852       erl\n",
       "3             'Rxra-MA0512.1'  1.6633       erl\n",
       "4      'RXR-RAR_DR5-MA0159.1'  1.6278       erl"
      ]
     },
     "execution_count": 2,
     "metadata": {},
     "output_type": "execute_result"
    }
   ],
   "source": [
    "#df = pd.read_csv('scATAC_TF_ctrlTx_var.csv')\n",
    "\n",
    "df = pd.read_csv(open('scATAC_TF_ctrlTx_var.csv','rU'), encoding='utf-8', engine='c')\n",
    "df.head()\n",
    "#df.groupby(['TF','condition']).count()"
   ]
  },
  {
   "cell_type": "code",
   "execution_count": 3,
   "metadata": {
    "collapsed": false
   },
   "outputs": [],
   "source": [
    "newTF = [str(i).strip().split(':m')[0].replace(\"'\", \"\") for i in df['TF']]\n",
    "df['TF'] = newTF\n"
   ]
  },
  {
   "cell_type": "code",
   "execution_count": 4,
   "metadata": {
    "collapsed": false
   },
   "outputs": [
    {
     "data": {
      "text/html": [
       "<div>\n",
       "<table border=\"1\" class=\"dataframe\">\n",
       "  <thead>\n",
       "    <tr style=\"text-align: right;\">\n",
       "      <th></th>\n",
       "      <th>TF</th>\n",
       "      <th>Dev</th>\n",
       "      <th>condition</th>\n",
       "    </tr>\n",
       "  </thead>\n",
       "  <tbody>\n",
       "    <tr>\n",
       "      <th>0</th>\n",
       "      <td>YY1-MA0095.2</td>\n",
       "      <td>2.2185</td>\n",
       "      <td>erl</td>\n",
       "    </tr>\n",
       "    <tr>\n",
       "      <th>1</th>\n",
       "      <td>TLX1-NFIC-MA0119.1</td>\n",
       "      <td>1.8080</td>\n",
       "      <td>erl</td>\n",
       "    </tr>\n",
       "    <tr>\n",
       "      <th>2</th>\n",
       "      <td>EHF-MA0598.1</td>\n",
       "      <td>1.7852</td>\n",
       "      <td>erl</td>\n",
       "    </tr>\n",
       "    <tr>\n",
       "      <th>3</th>\n",
       "      <td>Rxra-MA0512.1</td>\n",
       "      <td>1.6633</td>\n",
       "      <td>erl</td>\n",
       "    </tr>\n",
       "    <tr>\n",
       "      <th>4</th>\n",
       "      <td>RXR-RAR_DR5-MA0159.1</td>\n",
       "      <td>1.6278</td>\n",
       "      <td>erl</td>\n",
       "    </tr>\n",
       "  </tbody>\n",
       "</table>\n",
       "</div>"
      ],
      "text/plain": [
       "                     TF     Dev condition\n",
       "0          YY1-MA0095.2  2.2185       erl\n",
       "1    TLX1-NFIC-MA0119.1  1.8080       erl\n",
       "2          EHF-MA0598.1  1.7852       erl\n",
       "3         Rxra-MA0512.1  1.6633       erl\n",
       "4  RXR-RAR_DR5-MA0159.1  1.6278       erl"
      ]
     },
     "execution_count": 4,
     "metadata": {},
     "output_type": "execute_result"
    }
   ],
   "source": [
    "df.head()"
   ]
  },
  {
   "cell_type": "code",
   "execution_count": 6,
   "metadata": {
    "collapsed": false
   },
   "outputs": [],
   "source": [
    "#shrTF.head()"
   ]
  },
  {
   "cell_type": "code",
   "execution_count": 7,
   "metadata": {
    "collapsed": false
   },
   "outputs": [],
   "source": [
    "sTF = df.groupby('TF').count()\n",
    "sTF = [str(i) for i in sTF[sTF.condition>1].index]"
   ]
  },
  {
   "cell_type": "code",
   "execution_count": 8,
   "metadata": {
    "collapsed": false
   },
   "outputs": [],
   "source": [
    "s = [i for i in set(sTF).intersection(df['TF'])]"
   ]
  },
  {
   "cell_type": "code",
   "execution_count": 9,
   "metadata": {
    "collapsed": false
   },
   "outputs": [],
   "source": [
    "#df[df.TF=='Foxq1-MA0040.1']\n",
    "shrTF = df[df['TF'].isin(s)]"
   ]
  },
  {
   "cell_type": "code",
   "execution_count": 71,
   "metadata": {
    "collapsed": false
   },
   "outputs": [],
   "source": [
    "#shrTF.groupby('TF').count()"
   ]
  },
  {
   "cell_type": "code",
   "execution_count": 69,
   "metadata": {
    "collapsed": false
   },
   "outputs": [
    {
     "data": {
      "text/html": [
       "<div>\n",
       "<table border=\"1\" class=\"dataframe\">\n",
       "  <thead>\n",
       "    <tr style=\"text-align: right;\">\n",
       "      <th></th>\n",
       "      <th>TF</th>\n",
       "      <th>Dev</th>\n",
       "      <th>condition</th>\n",
       "    </tr>\n",
       "  </thead>\n",
       "  <tbody>\n",
       "    <tr>\n",
       "      <th>0</th>\n",
       "      <td>YY1-MA0095.2</td>\n",
       "      <td>2.2185</td>\n",
       "      <td>erl</td>\n",
       "    </tr>\n",
       "    <tr>\n",
       "      <th>1</th>\n",
       "      <td>TLX1-NFIC-MA0119.1</td>\n",
       "      <td>1.8080</td>\n",
       "      <td>erl</td>\n",
       "    </tr>\n",
       "    <tr>\n",
       "      <th>2</th>\n",
       "      <td>EHF-MA0598.1</td>\n",
       "      <td>1.7852</td>\n",
       "      <td>erl</td>\n",
       "    </tr>\n",
       "    <tr>\n",
       "      <th>3</th>\n",
       "      <td>Rxra-MA0512.1</td>\n",
       "      <td>1.6633</td>\n",
       "      <td>erl</td>\n",
       "    </tr>\n",
       "    <tr>\n",
       "      <th>5</th>\n",
       "      <td>USF1-MA0093.2</td>\n",
       "      <td>1.6104</td>\n",
       "      <td>erl</td>\n",
       "    </tr>\n",
       "  </tbody>\n",
       "</table>\n",
       "</div>"
      ],
      "text/plain": [
       "                   TF     Dev condition\n",
       "0        YY1-MA0095.2  2.2185       erl\n",
       "1  TLX1-NFIC-MA0119.1  1.8080       erl\n",
       "2        EHF-MA0598.1  1.7852       erl\n",
       "3       Rxra-MA0512.1  1.6633       erl\n",
       "5       USF1-MA0093.2  1.6104       erl"
      ]
     },
     "execution_count": 69,
     "metadata": {},
     "output_type": "execute_result"
    }
   ],
   "source": [
    "#plt.plot(shrTF)\n",
    "#shrTF[shrTF.condition=='ctrl']\n",
    "\n",
    "#shrTF[shrTF.condition=='ctrl']['Dev']\n",
    "shrTF.head()\n",
    "#plt.scatter(x=shrTF[shrTF.condition=='ctrl']['Dev'],y=shrTF[shrTF.condition=='erl']['Dev'])\n",
    "#plt.show()"
   ]
  },
  {
   "cell_type": "code",
   "execution_count": 41,
   "metadata": {
    "collapsed": false
   },
   "outputs": [],
   "source": [
    "c = shrTF[shrTF.condition=='ctrl']; c = c.sort('TF'); c = c.reset_index()\n",
    "e = shrTF[shrTF.condition=='erl']; e = e.sort('TF'); e = e.reset_index()"
   ]
  },
  {
   "cell_type": "code",
   "execution_count": 48,
   "metadata": {
    "collapsed": false
   },
   "outputs": [],
   "source": [
    "c = c.sort('Dev',ascending=False)"
   ]
  },
  {
   "cell_type": "code",
   "execution_count": 66,
   "metadata": {
    "collapsed": false
   },
   "outputs": [],
   "source": [
    "cIdx = [i for i in c.index]\n",
    "e = e.loc[cIdx]\n"
   ]
  },
  {
   "cell_type": "code",
   "execution_count": 76,
   "metadata": {
    "collapsed": false
   },
   "outputs": [],
   "source": [
    "c.columns=['oldIdx','TF','ctrl','junk']\n",
    "e.columns=['oldIdx','TF','erl','junk']"
   ]
  },
  {
   "cell_type": "code",
   "execution_count": 77,
   "metadata": {
    "collapsed": false
   },
   "outputs": [],
   "source": [
    "c['erl']=e['erl']"
   ]
  },
  {
   "cell_type": "code",
   "execution_count": 81,
   "metadata": {
    "collapsed": false
   },
   "outputs": [],
   "source": [
    "c = c.drop('junk',1)"
   ]
  },
  {
   "cell_type": "code",
   "execution_count": 117,
   "metadata": {
    "collapsed": false
   },
   "outputs": [],
   "source": [
    "rVal = str(round(stats.pearsonr(c['ctrl'],c['erl'])[0],3))\n",
    "pVal = str(round(stats.pearsonr(c['ctrl'],c['erl'])[1],3))"
   ]
  },
  {
   "cell_type": "code",
   "execution_count": 128,
   "metadata": {
    "collapsed": false
   },
   "outputs": [
    {
     "data": {
      "image/png": "[encoded data removed]",
      "text/plain": [
       "<matplotlib.figure.Figure at 0x109d47110>"
      ]
     },
     "metadata": {},
     "output_type": "display_data"
    }
   ],
   "source": [
    "fig=plt.figure(figsize=(4,4),dpi=1600)\n",
    "ax=plt.subplot(111)\n",
    "\n",
    "plt.scatter(x = c['ctrl'],y=c['erl'],alpha=0.5)\n",
    "ax.text(1.4,2.2,'R = '+rVal)\n",
    "ax.text(1.4,2.05,'p = '+pVal)\n",
    "ax.set_xlabel('TF var (ctrl)',fontsize=14)\n",
    "ax.set_ylabel('TF var (erl)',fontsize=14)\n",
    "plt.show()\n",
    "fig.savefig('scATAC_TF_corr',dpi=1600,bbox_inches='tight')\n"
   ]
  },
  {
   "cell_type": "code",
   "execution_count": null,
   "metadata": {
    "collapsed": true
   },
   "outputs": [],
   "source": []
  }
 ],
 "metadata": {
  "kernelspec": {
   "display_name": "Python 2",
   "language": "python",
   "name": "python2"
  },
  "language_info": {
   "codemirror_mode": {
    "name": "ipython",
    "version": 2
   },
   "file_extension": ".py",
   "mimetype": "text/x-python",
   "name": "python",
   "nbconvert_exporter": "python",
   "pygments_lexer": "ipython2",
   "version": "2.7.10"
  }
 },
 "nbformat": 4,
 "nbformat_minor": 0
}
